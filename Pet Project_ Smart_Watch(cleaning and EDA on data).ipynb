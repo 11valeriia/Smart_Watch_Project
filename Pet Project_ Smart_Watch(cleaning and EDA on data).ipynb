{
 "cells": [
  {
   "cell_type": "code",
   "execution_count": 65,
   "id": "26c0f657-8187-43f6-aa13-2c33697808a0",
   "metadata": {},
   "outputs": [],
   "source": [
    "import numpy as np\n",
    "import pandas as pd\n",
    "import matplotlib.pyplot as plt"
   ]
  },
  {
   "cell_type": "code",
   "execution_count": 66,
   "id": "ff974f0c-4546-4545-9b36-ffd9beff43e0",
   "metadata": {},
   "outputs": [],
   "source": [
    "sleep = pd.read_csv('SLEEP.csv')\n",
    "# Convert date columns to datetime\n",
    "sleep['date'] = pd.to_datetime(sleep['date'])\n",
    "sleep['start'] = pd.to_datetime(sleep['start'])\n",
    "sleep['stop'] = pd.to_datetime(sleep['stop'])"
   ]
  },
  {
   "cell_type": "code",
   "execution_count": 67,
   "id": "615b9589-5cf1-4922-8284-4d96f02b9f59",
   "metadata": {},
   "outputs": [],
   "source": [
    "# Delete useless columns\n",
    "sleep.drop(['REMTime', 'naps'], axis = 1, inplace = True)"
   ]
  },
  {
   "cell_type": "code",
   "execution_count": 68,
   "id": "530d5406-f441-4dab-a355-23125e070ec7",
   "metadata": {},
   "outputs": [],
   "source": [
    "# Create new columns: total sleep(in minutes and hours), drop rows with total sleep time < 3 hours\n",
    "sleep['total_min'] = sleep ['deepSleepTime'] + sleep ['shallowSleepTime'] + sleep ['wakeTime']\n",
    "sleep['total_hrs'] = sleep['total_min']/60\n",
    "sleep = sleep[sleep['total_min'] > 180]"
   ]
  },
  {
   "cell_type": "code",
   "execution_count": 69,
   "id": "48057c03-420b-4d47-befd-c62ce65cdfb5",
   "metadata": {},
   "outputs": [],
   "source": [
    " # Create columns with weekday (Monday, Tuesday) and mark weekends\n",
    "sleep['weekday'] = sleep['date'].dt.day_name()\n",
    "sleep['is_weekend'] = sleep['date'].dt.weekday >= 5  "
   ]
  },
  {
   "cell_type": "code",
   "execution_count": 70,
   "id": "6884768e-fd67-40e7-8238-e09b45c3625e",
   "metadata": {},
   "outputs": [],
   "source": [
    "# Reset index after deleting rows\n",
    "sleep.reset_index(drop=True, inplace=True)"
   ]
  },
  {
   "cell_type": "code",
   "execution_count": 71,
   "id": "3d3fd32b-dd09-4af1-877e-59511540b8db",
   "metadata": {},
   "outputs": [
    {
     "name": "stdout",
     "output_type": "stream",
     "text": [
      "Cleaned sleep dataset shape: (655, 10)\n"
     ]
    },
    {
     "data": {
      "text/html": [
       "<div>\n",
       "<style scoped>\n",
       "    .dataframe tbody tr th:only-of-type {\n",
       "        vertical-align: middle;\n",
       "    }\n",
       "\n",
       "    .dataframe tbody tr th {\n",
       "        vertical-align: top;\n",
       "    }\n",
       "\n",
       "    .dataframe thead th {\n",
       "        text-align: right;\n",
       "    }\n",
       "</style>\n",
       "<table border=\"1\" class=\"dataframe\">\n",
       "  <thead>\n",
       "    <tr style=\"text-align: right;\">\n",
       "      <th></th>\n",
       "      <th>date</th>\n",
       "      <th>deepSleepTime</th>\n",
       "      <th>shallowSleepTime</th>\n",
       "      <th>wakeTime</th>\n",
       "      <th>start</th>\n",
       "      <th>stop</th>\n",
       "      <th>total_min</th>\n",
       "      <th>total_hrs</th>\n",
       "      <th>weekday</th>\n",
       "      <th>is_weekend</th>\n",
       "    </tr>\n",
       "  </thead>\n",
       "  <tbody>\n",
       "    <tr>\n",
       "      <th>0</th>\n",
       "      <td>2023-01-01</td>\n",
       "      <td>167</td>\n",
       "      <td>274</td>\n",
       "      <td>0</td>\n",
       "      <td>2023-01-01 00:22:00+00:00</td>\n",
       "      <td>2023-01-01 07:43:00+00:00</td>\n",
       "      <td>441</td>\n",
       "      <td>7.350000</td>\n",
       "      <td>Sunday</td>\n",
       "      <td>True</td>\n",
       "    </tr>\n",
       "    <tr>\n",
       "      <th>1</th>\n",
       "      <td>2023-01-03</td>\n",
       "      <td>234</td>\n",
       "      <td>334</td>\n",
       "      <td>0</td>\n",
       "      <td>2023-01-02 22:29:00+00:00</td>\n",
       "      <td>2023-01-03 07:57:00+00:00</td>\n",
       "      <td>568</td>\n",
       "      <td>9.466667</td>\n",
       "      <td>Tuesday</td>\n",
       "      <td>False</td>\n",
       "    </tr>\n",
       "    <tr>\n",
       "      <th>2</th>\n",
       "      <td>2023-01-04</td>\n",
       "      <td>151</td>\n",
       "      <td>367</td>\n",
       "      <td>0</td>\n",
       "      <td>2023-01-03 22:47:00+00:00</td>\n",
       "      <td>2023-01-04 07:25:00+00:00</td>\n",
       "      <td>518</td>\n",
       "      <td>8.633333</td>\n",
       "      <td>Wednesday</td>\n",
       "      <td>False</td>\n",
       "    </tr>\n",
       "    <tr>\n",
       "      <th>3</th>\n",
       "      <td>2023-01-05</td>\n",
       "      <td>171</td>\n",
       "      <td>271</td>\n",
       "      <td>0</td>\n",
       "      <td>2023-01-05 00:33:00+00:00</td>\n",
       "      <td>2023-01-05 07:55:00+00:00</td>\n",
       "      <td>442</td>\n",
       "      <td>7.366667</td>\n",
       "      <td>Thursday</td>\n",
       "      <td>False</td>\n",
       "    </tr>\n",
       "    <tr>\n",
       "      <th>4</th>\n",
       "      <td>2023-01-06</td>\n",
       "      <td>166</td>\n",
       "      <td>373</td>\n",
       "      <td>0</td>\n",
       "      <td>2023-01-05 22:53:00+00:00</td>\n",
       "      <td>2023-01-06 07:52:00+00:00</td>\n",
       "      <td>539</td>\n",
       "      <td>8.983333</td>\n",
       "      <td>Friday</td>\n",
       "      <td>False</td>\n",
       "    </tr>\n",
       "  </tbody>\n",
       "</table>\n",
       "</div>"
      ],
      "text/plain": [
       "        date  deepSleepTime  shallowSleepTime  wakeTime  \\\n",
       "0 2023-01-01            167               274         0   \n",
       "1 2023-01-03            234               334         0   \n",
       "2 2023-01-04            151               367         0   \n",
       "3 2023-01-05            171               271         0   \n",
       "4 2023-01-06            166               373         0   \n",
       "\n",
       "                      start                      stop  total_min  total_hrs  \\\n",
       "0 2023-01-01 00:22:00+00:00 2023-01-01 07:43:00+00:00        441   7.350000   \n",
       "1 2023-01-02 22:29:00+00:00 2023-01-03 07:57:00+00:00        568   9.466667   \n",
       "2 2023-01-03 22:47:00+00:00 2023-01-04 07:25:00+00:00        518   8.633333   \n",
       "3 2023-01-05 00:33:00+00:00 2023-01-05 07:55:00+00:00        442   7.366667   \n",
       "4 2023-01-05 22:53:00+00:00 2023-01-06 07:52:00+00:00        539   8.983333   \n",
       "\n",
       "     weekday  is_weekend  \n",
       "0     Sunday        True  \n",
       "1    Tuesday       False  \n",
       "2  Wednesday       False  \n",
       "3   Thursday       False  \n",
       "4     Friday       False  "
      ]
     },
     "execution_count": 71,
     "metadata": {},
     "output_type": "execute_result"
    }
   ],
   "source": [
    "sleep.to_csv(\"sleep_cleaned.csv\", index=False)\n",
    "print(\"Cleaned sleep dataset shape:\", sleep.shape)\n",
    "sleep.describe()\n",
    "sleep.head()"
   ]
  },
  {
   "cell_type": "code",
   "execution_count": 72,
   "id": "8168fa84-ea5a-45d2-949f-7253c532456f",
   "metadata": {},
   "outputs": [
    {
     "data": {
      "image/png": "[encoded data removed]",
      "text/plain": [
       "<Figure size 1200x400 with 1 Axes>"
      ]
     },
     "metadata": {},
     "output_type": "display_data"
    }
   ],
   "source": [
    "#Distribution of sleep hours throughout 2 years\n",
    "plt.figure(figsize = (12,4))\n",
    "plt.hist(sleep['total_hrs'])\n",
    "plt.title('Sleep in hours distribution')\n",
    "plt.xlabel(\"Count of hours\")\n",
    "plt.ylabel(\"Frequency\")\n",
    "plt.show()"
   ]
  },
  {
   "cell_type": "code",
   "execution_count": 73,
   "id": "c6ecc671-9f81-48ea-9cf1-5cf91565753b",
   "metadata": {},
   "outputs": [],
   "source": [
    "activity = pd.read_csv('ACTIVITY.csv')\n",
    "activity.dtypes\n",
    "# Convert date columns to datetime\n",
    "activity['date'] = pd.to_datetime(activity['date'])"
   ]
  },
  {
   "cell_type": "code",
   "execution_count": 74,
   "id": "2236e837-c21c-40d9-a406-c2ace4fb6534",
   "metadata": {},
   "outputs": [],
   "source": [
    "#Drop rows with  around zero activity\n",
    "activity = activity[activity['steps'] >= 500]"
   ]
  },
  {
   "cell_type": "code",
   "execution_count": 75,
   "id": "19923e67-72fc-40c4-8921-b59a53f63170",
   "metadata": {},
   "outputs": [],
   "source": [
    "#Create new columns to extract more info: run ratio,day name, weekend marker\n",
    "activity['weekday'] = activity['date'].dt.day_name()\n",
    "activity['is_weekend'] = activity['date'].dt.weekday >= 5 "
   ]
  },
  {
   "cell_type": "code",
   "execution_count": 76,
   "id": "82eac4ca-3db9-4a00-973c-090f0a1698bf",
   "metadata": {},
   "outputs": [
    {
     "data": {
      "text/html": [
       "<div>\n",
       "<style scoped>\n",
       "    .dataframe tbody tr th:only-of-type {\n",
       "        vertical-align: middle;\n",
       "    }\n",
       "\n",
       "    .dataframe tbody tr th {\n",
       "        vertical-align: top;\n",
       "    }\n",
       "\n",
       "    .dataframe thead th {\n",
       "        text-align: right;\n",
       "    }\n",
       "</style>\n",
       "<table border=\"1\" class=\"dataframe\">\n",
       "  <thead>\n",
       "    <tr style=\"text-align: right;\">\n",
       "      <th></th>\n",
       "      <th>date</th>\n",
       "      <th>steps</th>\n",
       "      <th>distance</th>\n",
       "      <th>runDistance</th>\n",
       "      <th>calories</th>\n",
       "      <th>weekday</th>\n",
       "      <th>is_weekend</th>\n",
       "    </tr>\n",
       "  </thead>\n",
       "  <tbody>\n",
       "    <tr>\n",
       "      <th>0</th>\n",
       "      <td>2023-01-01</td>\n",
       "      <td>15845</td>\n",
       "      <td>11370</td>\n",
       "      <td>240</td>\n",
       "      <td>383</td>\n",
       "      <td>Sunday</td>\n",
       "      <td>True</td>\n",
       "    </tr>\n",
       "    <tr>\n",
       "      <th>1</th>\n",
       "      <td>2023-01-02</td>\n",
       "      <td>9312</td>\n",
       "      <td>6993</td>\n",
       "      <td>226</td>\n",
       "      <td>240</td>\n",
       "      <td>Monday</td>\n",
       "      <td>False</td>\n",
       "    </tr>\n",
       "    <tr>\n",
       "      <th>2</th>\n",
       "      <td>2023-01-03</td>\n",
       "      <td>5795</td>\n",
       "      <td>4350</td>\n",
       "      <td>186</td>\n",
       "      <td>148</td>\n",
       "      <td>Tuesday</td>\n",
       "      <td>False</td>\n",
       "    </tr>\n",
       "    <tr>\n",
       "      <th>3</th>\n",
       "      <td>2023-01-04</td>\n",
       "      <td>1077</td>\n",
       "      <td>737</td>\n",
       "      <td>67</td>\n",
       "      <td>27</td>\n",
       "      <td>Wednesday</td>\n",
       "      <td>False</td>\n",
       "    </tr>\n",
       "    <tr>\n",
       "      <th>4</th>\n",
       "      <td>2023-01-05</td>\n",
       "      <td>4086</td>\n",
       "      <td>2949</td>\n",
       "      <td>192</td>\n",
       "      <td>98</td>\n",
       "      <td>Thursday</td>\n",
       "      <td>False</td>\n",
       "    </tr>\n",
       "  </tbody>\n",
       "</table>\n",
       "</div>"
      ],
      "text/plain": [
       "        date  steps  distance  runDistance  calories    weekday  is_weekend\n",
       "0 2023-01-01  15845     11370          240       383     Sunday        True\n",
       "1 2023-01-02   9312      6993          226       240     Monday       False\n",
       "2 2023-01-03   5795      4350          186       148    Tuesday       False\n",
       "3 2023-01-04   1077       737           67        27  Wednesday       False\n",
       "4 2023-01-05   4086      2949          192        98   Thursday       False"
      ]
     },
     "execution_count": 76,
     "metadata": {},
     "output_type": "execute_result"
    }
   ],
   "source": [
    "activity.head()"
   ]
  },
  {
   "cell_type": "code",
   "execution_count": 77,
   "id": "9dd39087-37f0-422a-b5e6-d7c86463fcd8",
   "metadata": {},
   "outputs": [
    {
     "name": "stdout",
     "output_type": "stream",
     "text": [
      "Cleaned activity dataset shape: (680, 7)\n"
     ]
    },
    {
     "data": {
      "text/html": [
       "<div>\n",
       "<style scoped>\n",
       "    .dataframe tbody tr th:only-of-type {\n",
       "        vertical-align: middle;\n",
       "    }\n",
       "\n",
       "    .dataframe tbody tr th {\n",
       "        vertical-align: top;\n",
       "    }\n",
       "\n",
       "    .dataframe thead th {\n",
       "        text-align: right;\n",
       "    }\n",
       "</style>\n",
       "<table border=\"1\" class=\"dataframe\">\n",
       "  <thead>\n",
       "    <tr style=\"text-align: right;\">\n",
       "      <th></th>\n",
       "      <th>date</th>\n",
       "      <th>steps</th>\n",
       "      <th>distance</th>\n",
       "      <th>runDistance</th>\n",
       "      <th>calories</th>\n",
       "    </tr>\n",
       "  </thead>\n",
       "  <tbody>\n",
       "    <tr>\n",
       "      <th>count</th>\n",
       "      <td>680</td>\n",
       "      <td>680.000000</td>\n",
       "      <td>680.000000</td>\n",
       "      <td>680.000000</td>\n",
       "      <td>680.000000</td>\n",
       "    </tr>\n",
       "    <tr>\n",
       "      <th>mean</th>\n",
       "      <td>2024-05-19 02:38:49.411764736</td>\n",
       "      <td>6354.607353</td>\n",
       "      <td>4773.714706</td>\n",
       "      <td>269.255882</td>\n",
       "      <td>163.983824</td>\n",
       "    </tr>\n",
       "    <tr>\n",
       "      <th>min</th>\n",
       "      <td>2023-01-01 00:00:00</td>\n",
       "      <td>504.000000</td>\n",
       "      <td>345.000000</td>\n",
       "      <td>33.000000</td>\n",
       "      <td>14.000000</td>\n",
       "    </tr>\n",
       "    <tr>\n",
       "      <th>25%</th>\n",
       "      <td>2023-09-05 18:00:00</td>\n",
       "      <td>2770.000000</td>\n",
       "      <td>1992.250000</td>\n",
       "      <td>162.750000</td>\n",
       "      <td>70.000000</td>\n",
       "    </tr>\n",
       "    <tr>\n",
       "      <th>50%</th>\n",
       "      <td>2024-04-24 12:00:00</td>\n",
       "      <td>5254.000000</td>\n",
       "      <td>3949.500000</td>\n",
       "      <td>232.000000</td>\n",
       "      <td>136.500000</td>\n",
       "    </tr>\n",
       "    <tr>\n",
       "      <th>75%</th>\n",
       "      <td>2025-02-22 06:00:00</td>\n",
       "      <td>8438.750000</td>\n",
       "      <td>6356.000000</td>\n",
       "      <td>330.000000</td>\n",
       "      <td>215.000000</td>\n",
       "    </tr>\n",
       "    <tr>\n",
       "      <th>max</th>\n",
       "      <td>2025-08-28 00:00:00</td>\n",
       "      <td>29080.000000</td>\n",
       "      <td>22443.000000</td>\n",
       "      <td>1854.000000</td>\n",
       "      <td>777.000000</td>\n",
       "    </tr>\n",
       "    <tr>\n",
       "      <th>std</th>\n",
       "      <td>NaN</td>\n",
       "      <td>4910.728941</td>\n",
       "      <td>3786.555963</td>\n",
       "      <td>161.546017</td>\n",
       "      <td>127.984287</td>\n",
       "    </tr>\n",
       "  </tbody>\n",
       "</table>\n",
       "</div>"
      ],
      "text/plain": [
       "                                date         steps      distance  runDistance  \\\n",
       "count                            680    680.000000    680.000000   680.000000   \n",
       "mean   2024-05-19 02:38:49.411764736   6354.607353   4773.714706   269.255882   \n",
       "min              2023-01-01 00:00:00    504.000000    345.000000    33.000000   \n",
       "25%              2023-09-05 18:00:00   2770.000000   1992.250000   162.750000   \n",
       "50%              2024-04-24 12:00:00   5254.000000   3949.500000   232.000000   \n",
       "75%              2025-02-22 06:00:00   8438.750000   6356.000000   330.000000   \n",
       "max              2025-08-28 00:00:00  29080.000000  22443.000000  1854.000000   \n",
       "std                              NaN   4910.728941   3786.555963   161.546017   \n",
       "\n",
       "         calories  \n",
       "count  680.000000  \n",
       "mean   163.983824  \n",
       "min     14.000000  \n",
       "25%     70.000000  \n",
       "50%    136.500000  \n",
       "75%    215.000000  \n",
       "max    777.000000  \n",
       "std    127.984287  "
      ]
     },
     "execution_count": 77,
     "metadata": {},
     "output_type": "execute_result"
    }
   ],
   "source": [
    "activity.to_csv(\"activity_cleaned.csv\", index=False)\n",
    "\n",
    "print(\"Cleaned activity dataset shape:\", activity.shape)\n",
    "activity.describe()"
   ]
  },
  {
   "cell_type": "code",
   "execution_count": 78,
   "id": "911312c4-85c0-4f48-949f-025b72083b72",
   "metadata": {},
   "outputs": [
    {
     "data": {
      "image/png": "[encoded data removed]",
      "text/plain": [
       "<Figure size 1400x600 with 1 Axes>"
      ]
     },
     "metadata": {},
     "output_type": "display_data"
    }
   ],
   "source": [
    "#Steps per day over day compared by weekend/weekday with regard to recommended 10k per day\n",
    "#Weekends\n",
    "plt.figure(figsize =(14,6))\n",
    "plt.scatter(activity[activity['is_weekend']]['date'],activity[activity['is_weekend']]['steps'], label = 'Weekends', alpha = 0.6)\n",
    "\n",
    "#Weekdays\n",
    "plt.scatter(activity[~activity['is_weekend']]['date'],activity[~activity['is_weekend']]['steps'], label = 'Weekdays', alpha = 0.8)\n",
    "# Goal line\n",
    "plt.axhline(y=10000, color = 'green', ls = ':', label = '10k recommended')\n",
    "# Mean line\n",
    "plt.axhline(activity['steps'].mean(), color='red', linestyle='--', label='Mean steps')\n",
    "plt.title('Daily Steps Over Time: Weekdays vs Weekends')\n",
    "plt.xlabel('Date')\n",
    "plt.ylabel('Steps')\n",
    "plt.legend()\n",
    "plt.show()"
   ]
  },
  {
   "cell_type": "code",
   "execution_count": 79,
   "id": "5fd2964e-b7a4-48b1-8bdb-820ddac62432",
   "metadata": {},
   "outputs": [
    {
     "data": {
      "image/png": "[encoded data removed]",
      "text/plain": [
       "<Figure size 1200x400 with 1 Axes>"
      ]
     },
     "metadata": {},
     "output_type": "display_data"
    }
   ],
   "source": [
    "#Distribution of steps per day throughout 2 years\n",
    "plt.figure(figsize = (12,4))\n",
    "plt.hist(activity['steps'], bins = 35)\n",
    "plt.title('Steps per day distribution')\n",
    "plt.xlabel(\"Count of steps\")\n",
    "plt.ylabel(\"Frequency\")\n",
    "plt.show()"
   ]
  },
  {
   "cell_type": "code",
   "execution_count": 80,
   "id": "e65a61eb-904f-4a6a-8f56-5fca658319db",
   "metadata": {},
   "outputs": [],
   "source": [
    "heartrate = pd.read_csv('HEARTRATE.csv')\n",
    "heartrate.dtypes\n",
    "#Combining date and time to a single column in datetime format\n",
    "heartrate['datetime'] = pd.to_datetime(heartrate['date'] + ' ' + heartrate['time'])\n",
    "heartrate['date'] = pd.to_datetime(heartrate['date'])"
   ]
  },
  {
   "cell_type": "code",
   "execution_count": 81,
   "id": "19914693-9448-45ef-9f73-9580acac31af",
   "metadata": {},
   "outputs": [
    {
     "name": "stdout",
     "output_type": "stream",
     "text": [
      "date\n",
      "2024-09-24    442\n",
      "2025-02-15    329\n",
      "2025-02-03    258\n",
      "2024-08-10    208\n",
      "2025-06-05    143\n",
      "             ... \n",
      "2025-06-10      1\n",
      "2025-07-20      1\n",
      "2025-07-30      1\n",
      "2025-08-03      1\n",
      "2025-08-18      1\n",
      "Length: 131, dtype: int64\n"
     ]
    }
   ],
   "source": [
    "#Detected that there is a great variation between counts of heart rates per day\n",
    "heartrate_count = heartrate.groupby('date').size().sort_values(ascending=False)\n",
    "print(heartrate_count)"
   ]
  },
  {
   "cell_type": "code",
   "execution_count": 82,
   "id": "52967a7b-c6b4-4078-84cd-109a1a5bca43",
   "metadata": {},
   "outputs": [
    {
     "name": "stdout",
     "output_type": "stream",
     "text": [
      "day_part\n",
      "day         505\n",
      "evening    1462\n",
      "morning     243\n",
      "night       609\n",
      "dtype: int64\n"
     ]
    }
   ],
   "source": [
    "#Create new columns with hour of the day and day part based of the hour\n",
    "heartrate['hour'] = heartrate['datetime'].dt.hour\n",
    "\n",
    "conditions = [\n",
    "    (heartrate['hour'] >= 0) & (heartrate['hour'] < 6),\n",
    "    (heartrate['hour'] >= 6) & (heartrate['hour'] < 12),\n",
    "    (heartrate['hour'] >= 12) & (heartrate['hour'] < 18),\n",
    "    (heartrate['hour'] >= 18) & (heartrate['hour'] <= 23)\n",
    "]\n",
    "values = ['night', 'morning', 'day', 'evening']\n",
    "\n",
    "heartrate['day_part'] = np.select(conditions, values, default='unknown')\n",
    "print(heartrate.groupby('day_part').size())"
   ]
  },
  {
   "cell_type": "code",
   "execution_count": 83,
   "id": "fd9c2a86-7a58-482d-afb3-7a94b77ffc06",
   "metadata": {},
   "outputs": [
    {
     "data": {
      "text/html": [
       "<div>\n",
       "<style scoped>\n",
       "    .dataframe tbody tr th:only-of-type {\n",
       "        vertical-align: middle;\n",
       "    }\n",
       "\n",
       "    .dataframe tbody tr th {\n",
       "        vertical-align: top;\n",
       "    }\n",
       "\n",
       "    .dataframe thead th {\n",
       "        text-align: right;\n",
       "    }\n",
       "</style>\n",
       "<table border=\"1\" class=\"dataframe\">\n",
       "  <thead>\n",
       "    <tr style=\"text-align: right;\">\n",
       "      <th></th>\n",
       "      <th>date</th>\n",
       "      <th>day_part</th>\n",
       "      <th>avg_heartrate</th>\n",
       "    </tr>\n",
       "  </thead>\n",
       "  <tbody>\n",
       "    <tr>\n",
       "      <th>0</th>\n",
       "      <td>2023-01-02</td>\n",
       "      <td>morning</td>\n",
       "      <td>88.942857</td>\n",
       "    </tr>\n",
       "    <tr>\n",
       "      <th>1</th>\n",
       "      <td>2023-01-05</td>\n",
       "      <td>evening</td>\n",
       "      <td>102.000000</td>\n",
       "    </tr>\n",
       "    <tr>\n",
       "      <th>2</th>\n",
       "      <td>2023-01-09</td>\n",
       "      <td>evening</td>\n",
       "      <td>83.333333</td>\n",
       "    </tr>\n",
       "    <tr>\n",
       "      <th>3</th>\n",
       "      <td>2023-01-10</td>\n",
       "      <td>night</td>\n",
       "      <td>102.000000</td>\n",
       "    </tr>\n",
       "    <tr>\n",
       "      <th>4</th>\n",
       "      <td>2023-01-13</td>\n",
       "      <td>night</td>\n",
       "      <td>71.000000</td>\n",
       "    </tr>\n",
       "    <tr>\n",
       "      <th>5</th>\n",
       "      <td>2023-01-16</td>\n",
       "      <td>evening</td>\n",
       "      <td>76.000000</td>\n",
       "    </tr>\n",
       "    <tr>\n",
       "      <th>6</th>\n",
       "      <td>2023-01-18</td>\n",
       "      <td>evening</td>\n",
       "      <td>99.666667</td>\n",
       "    </tr>\n",
       "    <tr>\n",
       "      <th>7</th>\n",
       "      <td>2023-01-22</td>\n",
       "      <td>evening</td>\n",
       "      <td>81.000000</td>\n",
       "    </tr>\n",
       "    <tr>\n",
       "      <th>8</th>\n",
       "      <td>2023-01-23</td>\n",
       "      <td>morning</td>\n",
       "      <td>73.500000</td>\n",
       "    </tr>\n",
       "    <tr>\n",
       "      <th>9</th>\n",
       "      <td>2023-01-28</td>\n",
       "      <td>day</td>\n",
       "      <td>67.000000</td>\n",
       "    </tr>\n",
       "    <tr>\n",
       "      <th>10</th>\n",
       "      <td>2023-02-01</td>\n",
       "      <td>evening</td>\n",
       "      <td>87.454545</td>\n",
       "    </tr>\n",
       "    <tr>\n",
       "      <th>11</th>\n",
       "      <td>2023-02-03</td>\n",
       "      <td>evening</td>\n",
       "      <td>85.958333</td>\n",
       "    </tr>\n",
       "    <tr>\n",
       "      <th>12</th>\n",
       "      <td>2023-02-03</td>\n",
       "      <td>morning</td>\n",
       "      <td>61.000000</td>\n",
       "    </tr>\n",
       "    <tr>\n",
       "      <th>13</th>\n",
       "      <td>2023-02-12</td>\n",
       "      <td>evening</td>\n",
       "      <td>103.130435</td>\n",
       "    </tr>\n",
       "    <tr>\n",
       "      <th>14</th>\n",
       "      <td>2023-02-16</td>\n",
       "      <td>evening</td>\n",
       "      <td>76.285714</td>\n",
       "    </tr>\n",
       "    <tr>\n",
       "      <th>15</th>\n",
       "      <td>2023-02-18</td>\n",
       "      <td>day</td>\n",
       "      <td>81.000000</td>\n",
       "    </tr>\n",
       "    <tr>\n",
       "      <th>16</th>\n",
       "      <td>2023-02-26</td>\n",
       "      <td>day</td>\n",
       "      <td>95.142857</td>\n",
       "    </tr>\n",
       "    <tr>\n",
       "      <th>17</th>\n",
       "      <td>2023-02-27</td>\n",
       "      <td>evening</td>\n",
       "      <td>74.868852</td>\n",
       "    </tr>\n",
       "    <tr>\n",
       "      <th>18</th>\n",
       "      <td>2023-02-27</td>\n",
       "      <td>night</td>\n",
       "      <td>85.000000</td>\n",
       "    </tr>\n",
       "    <tr>\n",
       "      <th>19</th>\n",
       "      <td>2023-02-28</td>\n",
       "      <td>evening</td>\n",
       "      <td>106.000000</td>\n",
       "    </tr>\n",
       "    <tr>\n",
       "      <th>20</th>\n",
       "      <td>2023-03-04</td>\n",
       "      <td>day</td>\n",
       "      <td>70.333333</td>\n",
       "    </tr>\n",
       "    <tr>\n",
       "      <th>21</th>\n",
       "      <td>2023-03-06</td>\n",
       "      <td>evening</td>\n",
       "      <td>70.000000</td>\n",
       "    </tr>\n",
       "    <tr>\n",
       "      <th>22</th>\n",
       "      <td>2023-03-28</td>\n",
       "      <td>evening</td>\n",
       "      <td>86.000000</td>\n",
       "    </tr>\n",
       "    <tr>\n",
       "      <th>23</th>\n",
       "      <td>2023-03-30</td>\n",
       "      <td>evening</td>\n",
       "      <td>97.941176</td>\n",
       "    </tr>\n",
       "    <tr>\n",
       "      <th>24</th>\n",
       "      <td>2023-04-01</td>\n",
       "      <td>day</td>\n",
       "      <td>106.000000</td>\n",
       "    </tr>\n",
       "    <tr>\n",
       "      <th>25</th>\n",
       "      <td>2023-04-03</td>\n",
       "      <td>evening</td>\n",
       "      <td>100.500000</td>\n",
       "    </tr>\n",
       "    <tr>\n",
       "      <th>26</th>\n",
       "      <td>2023-04-05</td>\n",
       "      <td>evening</td>\n",
       "      <td>102.000000</td>\n",
       "    </tr>\n",
       "    <tr>\n",
       "      <th>27</th>\n",
       "      <td>2023-05-27</td>\n",
       "      <td>day</td>\n",
       "      <td>91.260870</td>\n",
       "    </tr>\n",
       "    <tr>\n",
       "      <th>28</th>\n",
       "      <td>2023-05-29</td>\n",
       "      <td>evening</td>\n",
       "      <td>104.000000</td>\n",
       "    </tr>\n",
       "    <tr>\n",
       "      <th>29</th>\n",
       "      <td>2023-06-11</td>\n",
       "      <td>day</td>\n",
       "      <td>101.000000</td>\n",
       "    </tr>\n",
       "  </tbody>\n",
       "</table>\n",
       "</div>"
      ],
      "text/plain": [
       "         date day_part  avg_heartrate\n",
       "0  2023-01-02  morning      88.942857\n",
       "1  2023-01-05  evening     102.000000\n",
       "2  2023-01-09  evening      83.333333\n",
       "3  2023-01-10    night     102.000000\n",
       "4  2023-01-13    night      71.000000\n",
       "5  2023-01-16  evening      76.000000\n",
       "6  2023-01-18  evening      99.666667\n",
       "7  2023-01-22  evening      81.000000\n",
       "8  2023-01-23  morning      73.500000\n",
       "9  2023-01-28      day      67.000000\n",
       "10 2023-02-01  evening      87.454545\n",
       "11 2023-02-03  evening      85.958333\n",
       "12 2023-02-03  morning      61.000000\n",
       "13 2023-02-12  evening     103.130435\n",
       "14 2023-02-16  evening      76.285714\n",
       "15 2023-02-18      day      81.000000\n",
       "16 2023-02-26      day      95.142857\n",
       "17 2023-02-27  evening      74.868852\n",
       "18 2023-02-27    night      85.000000\n",
       "19 2023-02-28  evening     106.000000\n",
       "20 2023-03-04      day      70.333333\n",
       "21 2023-03-06  evening      70.000000\n",
       "22 2023-03-28  evening      86.000000\n",
       "23 2023-03-30  evening      97.941176\n",
       "24 2023-04-01      day     106.000000\n",
       "25 2023-04-03  evening     100.500000\n",
       "26 2023-04-05  evening     102.000000\n",
       "27 2023-05-27      day      91.260870\n",
       "28 2023-05-29  evening     104.000000\n",
       "29 2023-06-11      day     101.000000"
      ]
     },
     "execution_count": 83,
     "metadata": {},
     "output_type": "execute_result"
    }
   ],
   "source": [
    "# Calculate average heartrate for date and day_part \n",
    "cleaned_heartrate = heartrate.groupby(['date', 'day_part'])['heartRate'].mean().reset_index()\n",
    "cleaned_heartrate.rename(columns={'heartRate': 'avg_heartrate'}, inplace=True)\n",
    "cleaned_heartrate.to_csv(\"cleaned_heartrate.csv\", index=False)\n",
    "cleaned_heartrate.head(30)"
   ]
  },
  {
   "cell_type": "code",
   "execution_count": 84,
   "id": "a396d2d9-8a11-40ed-8b6d-a32a07e161ff",
   "metadata": {},
   "outputs": [
    {
     "name": "stdout",
     "output_type": "stream",
     "text": [
      "\n",
      "Sleep date range: 2023-01-01 00:00:00 -> 2025-08-29 00:00:00\n",
      "\n",
      "Activity date range: 2023-01-01 00:00:00 -> 2025-08-28 00:00:00\n",
      "\n",
      "Heartrate date range: 2023-01-02 00:00:00 -> 2025-08-24 00:00:00\n"
     ]
    }
   ],
   "source": [
    "for name, df in [('Sleep', sleep), ('Activity', activity), ('Heartrate', cleaned_heartrate)]:\n",
    "    print(f\"\\n{name} date range: {df['date'].min()} -> {df['date'].max()}\")"
   ]
  },
  {
   "cell_type": "code",
   "execution_count": 85,
   "id": "1b7642b7-438d-4784-8d5b-ee6d746c46c7",
   "metadata": {},
   "outputs": [
    {
     "data": {
      "image/png": "[encoded data removed]",
      "text/plain": [
       "<Figure size 800x500 with 1 Axes>"
      ]
     },
     "metadata": {},
     "output_type": "display_data"
    }
   ],
   "source": [
    "cleaned_heartrate.boxplot(column='avg_heartrate', by='day_part', figsize=(8,5),grid=False)\n",
    "plt.title(\"Average Heart Rate by Day Part\")\n",
    "plt.suptitle(\"\")  # removes the extra default title\n",
    "plt.xlabel(\"Day Part\")\n",
    "plt.ylabel(\"Average Heart Rate\")\n",
    "plt.show()"
   ]
  },
  {
   "cell_type": "code",
   "execution_count": 86,
   "id": "06671739-94bf-4f7e-ab45-08c35726edc1",
   "metadata": {},
   "outputs": [
    {
     "data": {
      "text/plain": [
       "{'avg_sleep_hours': np.float64(8.77),\n",
       " 'median_sleep_hours': np.float64(8.87),\n",
       " 'min_sleep_hours': np.float64(3.62),\n",
       " 'max_sleep_hours': np.float64(12.47),\n",
       " 'sleep_std_dev': np.float64(1.3),\n",
       " 'avg_sleep_weekday': {'Friday': 8.61,\n",
       "  'Monday': 9.03,\n",
       "  'Saturday': 8.6,\n",
       "  'Sunday': 8.86,\n",
       "  'Thursday': 8.75,\n",
       "  'Tuesday': 8.94,\n",
       "  'Wednesday': 8.56}}"
      ]
     },
     "execution_count": 86,
     "metadata": {},
     "output_type": "execute_result"
    }
   ],
   "source": [
    "sleep_summary = {\n",
    "    \"avg_sleep_hours\": round(sleep['total_hrs'].mean(),2),\n",
    "    \"median_sleep_hours\": round(sleep['total_hrs'].median(),2),\n",
    "    \"min_sleep_hours\": round(sleep['total_hrs'].min(),2),\n",
    "    \"max_sleep_hours\": round(sleep['total_hrs'].max(),2),\n",
    "    \"sleep_std_dev\": round(sleep['total_hrs'].std(),2),\n",
    "    \"avg_sleep_weekday\": round(sleep.groupby('weekday')['total_hrs'].mean(),2).to_dict()\n",
    "}\n",
    "\n",
    "sleep_summary"
   ]
  },
  {
   "cell_type": "code",
   "execution_count": 87,
   "id": "4e4bcc6b-8532-4034-a1b0-3e3c97311717",
   "metadata": {},
   "outputs": [
    {
     "data": {
      "text/plain": [
       "{'avg_daily_steps': 6355,\n",
       " 'median_daily_steps': 5254,\n",
       " 'percent_days_over_10k': np.float64(18.09),\n",
       " 'avg_daily_calories': 164,\n",
       " 'avg_daily_distance': 4774}"
      ]
     },
     "execution_count": 87,
     "metadata": {},
     "output_type": "execute_result"
    }
   ],
   "source": [
    "activity_summary = {\n",
    "    \"avg_daily_steps\": round(activity['steps'].mean()),\n",
    "    \"median_daily_steps\": round(activity['steps'].median()),\n",
    "    \"percent_days_over_10k\": round((activity['steps'] > 10000).mean() * 100, 2),\n",
    "    \"avg_daily_calories\": round(activity['calories'].mean()),\n",
    "    \"avg_daily_distance\": round(activity['distance'].mean())\n",
    "}\n",
    "\n",
    "activity_summary"
   ]
  },
  {
   "cell_type": "code",
   "execution_count": 88,
   "id": "7d5b70e0-65db-4b0c-8992-0576b2042aba",
   "metadata": {},
   "outputs": [
    {
     "data": {
      "text/plain": [
       "{'avg_hr_overall': 85,\n",
       " 'min_avg_hr': 58,\n",
       " 'max_avg_hr': 126,\n",
       " 'avg_hr_by_daypart': {'day': 87.25,\n",
       "  'evening': 87.16,\n",
       "  'morning': 80.68,\n",
       "  'night': 81.48}}"
      ]
     },
     "execution_count": 88,
     "metadata": {},
     "output_type": "execute_result"
    }
   ],
   "source": [
    "heartrate_summary = {\n",
    "    \"avg_hr_overall\": round(cleaned_heartrate['avg_heartrate'].mean()),\n",
    "    \"min_avg_hr\": round(cleaned_heartrate['avg_heartrate'].min()),\n",
    "    \"max_avg_hr\": round(cleaned_heartrate['avg_heartrate'].max()),\n",
    "    \"avg_hr_by_daypart\": round(cleaned_heartrate.groupby('day_part')['avg_heartrate'].mean(),2).to_dict()\n",
    "}\n",
    "\n",
    "heartrate_summary\n"
   ]
  },
  {
   "cell_type": "code",
   "execution_count": 90,
   "id": "edcaeabb-e979-429b-bd1e-45ea0bc940ad",
   "metadata": {},
   "outputs": [
    {
     "data": {
      "text/html": [
       "<div>\n",
       "<style scoped>\n",
       "    .dataframe tbody tr th:only-of-type {\n",
       "        vertical-align: middle;\n",
       "    }\n",
       "\n",
       "    .dataframe tbody tr th {\n",
       "        vertical-align: top;\n",
       "    }\n",
       "\n",
       "    .dataframe thead th {\n",
       "        text-align: right;\n",
       "    }\n",
       "</style>\n",
       "<table border=\"1\" class=\"dataframe\">\n",
       "  <thead>\n",
       "    <tr style=\"text-align: right;\">\n",
       "      <th></th>\n",
       "      <th>steps</th>\n",
       "      <th>total_hrs</th>\n",
       "      <th>avg_hr</th>\n",
       "    </tr>\n",
       "  </thead>\n",
       "  <tbody>\n",
       "    <tr>\n",
       "      <th>steps</th>\n",
       "      <td>1.000000</td>\n",
       "      <td>-0.170672</td>\n",
       "      <td>-0.120317</td>\n",
       "    </tr>\n",
       "    <tr>\n",
       "      <th>total_hrs</th>\n",
       "      <td>-0.170672</td>\n",
       "      <td>1.000000</td>\n",
       "      <td>0.050558</td>\n",
       "    </tr>\n",
       "    <tr>\n",
       "      <th>avg_hr</th>\n",
       "      <td>-0.120317</td>\n",
       "      <td>0.050558</td>\n",
       "      <td>1.000000</td>\n",
       "    </tr>\n",
       "  </tbody>\n",
       "</table>\n",
       "</div>"
      ],
      "text/plain": [
       "              steps  total_hrs    avg_hr\n",
       "steps      1.000000  -0.170672 -0.120317\n",
       "total_hrs -0.170672   1.000000  0.050558\n",
       "avg_hr    -0.120317   0.050558  1.000000"
      ]
     },
     "execution_count": 90,
     "metadata": {},
     "output_type": "execute_result"
    }
   ],
   "source": [
    "merged = activity.merge(sleep[['date','total_hrs']], on='date', how='outer')\n",
    "merged = merged.merge(cleaned_heartrate.groupby('date')['avg_heartrate'].mean().rename('avg_hr'), \n",
    "                      on='date', how='outer')\n",
    "merged.to_csv(\"merged_file.csv\", index=False)\n",
    "\n",
    "cross_summary = merged[['steps','total_hrs','avg_hr']].corr()\n",
    "cross_summary"
   ]
  },
  {
   "cell_type": "code",
   "execution_count": null,
   "id": "9790dea3-254a-4f8e-b687-f470fb0824cd",
   "metadata": {},
   "outputs": [],
   "source": []
  }
 ],
 "metadata": {
  "kernelspec": {
   "display_name": "Python 3 (ipykernel)",
   "language": "python",
   "name": "python3"
  },
  "language_info": {
   "codemirror_mode": {
    "name": "ipython",
    "version": 3
   },
   "file_extension": ".py",
   "mimetype": "text/x-python",
   "name": "python",
   "nbconvert_exporter": "python",
   "pygments_lexer": "ipython3",
   "version": "3.13.5"
  }
 },
 "nbformat": 4,
 "nbformat_minor": 5
}
